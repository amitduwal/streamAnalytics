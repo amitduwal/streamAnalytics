{
 "cells": [
  {
   "cell_type": "code",
   "execution_count": 1,
   "id": "794b0204",
   "metadata": {},
   "outputs": [
    {
     "name": "stdout",
     "output_type": "stream",
     "text": [
      "Requirement already satisfied: opensearch-py in /home/ec2-user/anaconda3/envs/python3/lib/python3.10/site-packages (2.6.0)\n",
      "Requirement already satisfied: requests<3.0.0,>=2.4.0 in /home/ec2-user/anaconda3/envs/python3/lib/python3.10/site-packages (from opensearch-py) (2.32.3)\n",
      "Requirement already satisfied: six in /home/ec2-user/anaconda3/envs/python3/lib/python3.10/site-packages (from opensearch-py) (1.16.0)\n",
      "Requirement already satisfied: python-dateutil in /home/ec2-user/anaconda3/envs/python3/lib/python3.10/site-packages (from opensearch-py) (2.9.0)\n",
      "Requirement already satisfied: certifi>=2022.12.07 in /home/ec2-user/anaconda3/envs/python3/lib/python3.10/site-packages (from opensearch-py) (2024.6.2)\n",
      "Requirement already satisfied: Events in /home/ec2-user/anaconda3/envs/python3/lib/python3.10/site-packages (from opensearch-py) (0.5)\n",
      "Requirement already satisfied: urllib3!=2.2.0,<3,>=1.26.18 in /home/ec2-user/anaconda3/envs/python3/lib/python3.10/site-packages (from opensearch-py) (2.2.1)\n",
      "Requirement already satisfied: charset-normalizer<4,>=2 in /home/ec2-user/anaconda3/envs/python3/lib/python3.10/site-packages (from requests<3.0.0,>=2.4.0->opensearch-py) (3.3.2)\n",
      "Requirement already satisfied: idna<4,>=2.5 in /home/ec2-user/anaconda3/envs/python3/lib/python3.10/site-packages (from requests<3.0.0,>=2.4.0->opensearch-py) (3.7)\n",
      "Note: you may need to restart the kernel to use updated packages.\n"
     ]
    }
   ],
   "source": [
    "pip install opensearch-py"
   ]
  },
  {
   "cell_type": "code",
   "execution_count": 2,
   "id": "f86acd4a",
   "metadata": {},
   "outputs": [],
   "source": [
    "from opensearchpy import OpenSearch,RequestsHttpConnection, helpers\n",
    "import boto3\n",
    "import gzip\n",
    "from io import BytesIO\n",
    "import json\n",
    "import re"
   ]
  },
  {
   "cell_type": "code",
   "execution_count": 3,
   "id": "b981be29",
   "metadata": {},
   "outputs": [],
   "source": [
    "host = 'search-opensearch-domain-veqeg5v3lo36rov2j7w3hjdtty.us-west-2.es.amazonaws.com' # cluster endpoint, for example: my-test-domain.us-east-1.es.amazonaws.com\n",
    "port = 443\n",
    "region = 'us-west-2' # e.g. us-west-1\n",
    "\n",
    "\n",
    "credentials = (\"\",\"\")"
   ]
  },
  {
   "cell_type": "code",
   "execution_count": 4,
   "id": "a6392c29",
   "metadata": {},
   "outputs": [],
   "source": [
    "client = OpenSearch(\n",
    "    hosts = [f'{host}:{port}'],\n",
    "    http_auth = credentials,\n",
    "    use_ssl = True,\n",
    "    verify_certs = True,\n",
    "    connection_class = RequestsHttpConnection\n",
    ")"
   ]
  },
  {
   "cell_type": "code",
   "execution_count": 5,
   "id": "62c3868f",
   "metadata": {},
   "outputs": [],
   "source": [
    "info = client.info()"
   ]
  },
  {
   "cell_type": "code",
   "execution_count": 31,
   "id": "6ef2dff1",
   "metadata": {},
   "outputs": [
    {
     "name": "stdout",
     "output_type": "stream",
     "text": [
      "Index stream_index created successfully.\n"
     ]
    }
   ],
   "source": [
    "index_name = \"stream_index\"\n",
    "if not client.indices.exists(index=index_name):\n",
    "    # Define the index settings and mappings\n",
    "    index_body = {\n",
    "        'settings': {\n",
    "            'number_of_shards': 1,\n",
    "            'number_of_replicas': 1\n",
    "        },\n",
    "        'mappings': {\n",
    "            'properties': {\n",
    "                'patientId': {'type': 'keyword'},\n",
    "                'name': {'type': 'text'},\n",
    "                'age': {'type': 'integer'},\n",
    "                'heartRate': {'type': 'integer'},\n",
    "                'respiratoryRate': {'type': 'integer'},\n",
    "                'oxygenSaturation': {'type': 'integer'},\n",
    "                'seizureDetected': {'type': 'boolean'},\n",
    "                'seizureDuration': {'type': 'integer'},\n",
    "                'seizureSeverity': {'type': 'keyword'},\n",
    "                'emergencyContact': {\n",
    "                    'properties': {\n",
    "                        'name': {'type': 'text'},\n",
    "                        'relationship': {'type': 'keyword'},\n",
    "                        'phone': {'type': 'keyword'},\n",
    "                        'email': {'type': 'keyword'}\n",
    "                    }\n",
    "                },\n",
    "                'location': {\n",
    "                    'properties': {\n",
    "                        'currentLocation': {'type': 'text'},\n",
    "                        'hospitalId': {'type': 'keyword'}\n",
    "                    }\n",
    "                },\n",
    "                'createdAt': {\n",
    "                    'type': 'date'\n",
    "                },\n",
    "                'eventTimestamp': {\n",
    "                    'type': 'date'\n",
    "                }\n",
    "            }\n",
    "        }\n",
    "    }\n",
    "\n",
    "    # Create the index\n",
    "    client.indices.create(index=index_name, body=index_body)\n",
    "    print(f\"Index {index_name} created successfully.\")\n",
    "else:\n",
    "    print(f\"Index {index_name} already exists.\")\n"
   ]
  },
  {
   "cell_type": "code",
   "execution_count": 32,
   "id": "55875f63",
   "metadata": {},
   "outputs": [],
   "source": [
    "s3 = boto3.client(\"s3\")\n",
    "\n",
    "def process_gz_file(bucket_name, key):\n",
    "    \n",
    "    # Get the GZ file from S3\n",
    "    response = s3.get_object(Bucket=bucket_name, Key=key)\n",
    "    \n",
    "    # Read and extract the GZ file\n",
    "    with gzip.GzipFile(fileobj=response[\"Body\"]) as gzipfile:\n",
    "        content = gzipfile.read()\n",
    "\n",
    "    json_objects = str(content).split(\"}{\")\n",
    "     \n",
    "    processed_jsons = []  \n",
    "    for json_object in json_objects:\n",
    "            try:\n",
    "                json_object = '{' + json_object + '}'\n",
    "                data = json.loads(json_object)\n",
    "                processed_jsons.append(data)\n",
    "            except json.JSONDecodeError as e:\n",
    "                print(f\"Error decoding JSON: {e}\")\n",
    "                continue  # Skip invalid JSON entries\n",
    "        \n",
    "    return processed_jsons"
   ]
  },
  {
   "cell_type": "code",
   "execution_count": 33,
   "id": "b0557a8f",
   "metadata": {},
   "outputs": [
    {
     "name": "stdout",
     "output_type": "stream",
     "text": [
      "Processing file: raw/2024/08/13/09/StreamRawToS3-1-2024-08-13-09-52-05-eab92269-aea3-4edf-9894-58b74f82c64a.gz\n",
      "Error decoding JSON: Expecting property name enclosed in double quotes: line 1 column 2 (char 1)\n",
      "Error decoding JSON: Extra data: line 1 column 570 (char 569)\n",
      "Processing file: raw/2024/08/14/09/StreamRawToS3-1-2024-08-14-09-43-51-ee72ba55-219e-4891-944c-307048a86e9c.gz\n",
      "Error decoding JSON: Expecting property name enclosed in double quotes: line 1 column 2 (char 1)\n",
      "Error decoding JSON: Extra data: line 1 column 560 (char 559)\n",
      "Processing file: raw/2024/08/14/09/StreamRawToS3-1-2024-08-14-09-44-52-2b729741-0f74-4cfe-98cb-8f6703a15279.gz\n",
      "Error decoding JSON: Expecting property name enclosed in double quotes: line 1 column 2 (char 1)\n",
      "Error decoding JSON: Extra data: line 1 column 578 (char 577)\n",
      "Processing file: raw/2024/08/14/09/StreamRawToS3-1-2024-08-14-09-45-53-7d8ccb75-0495-470c-a8fe-fcad8ab6233e.gz\n",
      "Error decoding JSON: Expecting property name enclosed in double quotes: line 1 column 2 (char 1)\n",
      "Error decoding JSON: Extra data: line 1 column 575 (char 574)\n",
      "Processing file: raw/2024/08/14/09/StreamRawToS3-1-2024-08-14-09-46-54-9c6e83c8-d868-4610-b4ce-d1ab36ca6555.gz\n",
      "Error decoding JSON: Expecting property name enclosed in double quotes: line 1 column 2 (char 1)\n",
      "Error decoding JSON: Extra data: line 1 column 565 (char 564)\n",
      "Processing file: raw/2024/08/14/09/StreamRawToS3-1-2024-08-14-09-47-54-81f91954-b97e-4234-84e1-18da275822d0.gz\n",
      "Error decoding JSON: Expecting property name enclosed in double quotes: line 1 column 2 (char 1)\n",
      "Error decoding JSON: Extra data: line 1 column 563 (char 562)\n",
      "Processing file: raw/2024/08/14/09/StreamRawToS3-1-2024-08-14-09-48-55-04b27d9d-73e3-409e-b3b6-1ac8fd313412.gz\n",
      "Error decoding JSON: Expecting property name enclosed in double quotes: line 1 column 2 (char 1)\n",
      "Error decoding JSON: Extra data: line 1 column 572 (char 571)\n",
      "Processing file: raw/2024/08/14/09/StreamRawToS3-1-2024-08-14-09-49-57-1fd30ffb-8ddd-404a-a9f3-3dc4da5a5f70.gz\n",
      "Error decoding JSON: Expecting property name enclosed in double quotes: line 1 column 2 (char 1)\n",
      "Error decoding JSON: Extra data: line 1 column 553 (char 552)\n",
      "Processing file: raw/2024/08/14/09/StreamRawToS3-1-2024-08-14-09-50-57-a9f4f16a-e7b9-44db-bce9-cf54a40229d2.gz\n",
      "Error decoding JSON: Expecting property name enclosed in double quotes: line 1 column 2 (char 1)\n",
      "Error decoding JSON: Extra data: line 1 column 577 (char 576)\n",
      "Processing file: raw/2024/08/14/09/StreamRawToS3-1-2024-08-14-09-51-57-26ae7907-8018-4b10-85d7-a99d35f1c4f3.gz\n",
      "Error decoding JSON: Expecting property name enclosed in double quotes: line 1 column 2 (char 1)\n",
      "Error decoding JSON: Extra data: line 1 column 561 (char 560)\n"
     ]
    }
   ],
   "source": [
    "bucket_name = 'streamanalyticsstack-rawdatabucket57f26c03-5wauf1ctwth3'\n",
    "prefix = 'raw/'  \n",
    "\n",
    "result = s3.list_objects(Bucket=bucket_name, Prefix = prefix)\n",
    "processed_jsons = []\n",
    "\n",
    "# Process each file in the result\n",
    "if 'Contents' in result:\n",
    "    for obj in result['Contents']:\n",
    "        key = obj['Key']\n",
    "        if key.endswith('.gz'):  # Check if the file is a TGZ file\n",
    "            print(f\"Processing file: {key}\")\n",
    "\n",
    "            processed_jsons = process_gz_file(bucket_name, key)"
   ]
  },
  {
   "cell_type": "code",
   "execution_count": 34,
   "id": "ea1f8418",
   "metadata": {},
   "outputs": [
    {
     "name": "stdout",
     "output_type": "stream",
     "text": [
      "25\n"
     ]
    }
   ],
   "source": [
    "print(len(processed_jsons))"
   ]
  },
  {
   "cell_type": "code",
   "execution_count": 35,
   "id": "66ea3b38",
   "metadata": {},
   "outputs": [],
   "source": [
    "from datetime import datetime\n",
    "\n",
    "def format_date(date_str):\n",
    "    # Parse the date string and remove microseconds\n",
    "    date_obj = datetime.strptime(date_str, \"%Y-%m-%d %H:%M:%S.%f\")\n",
    "    return date_obj.strftime(\"%Y-%m-%dT%H:%M:%S\")  # ISO format without microseconds"
   ]
  },
  {
   "cell_type": "code",
   "execution_count": 36,
   "id": "7b286d3b",
   "metadata": {},
   "outputs": [],
   "source": [
    "def prepare_data_for_indexing(docs, index):\n",
    "    for i in range(len(docs)):\n",
    "        docs[i][\"_index\"] = index\n",
    "        docs[i]['createdAt'] = format_date(docs[i]['createdAt'])\n",
    "        docs[i]['eventTimestamp'] = format_date(docs[i]['eventTimestamp'])\n",
    "    return docs"
   ]
  },
  {
   "cell_type": "code",
   "execution_count": 37,
   "id": "e953cc0b",
   "metadata": {},
   "outputs": [
    {
     "name": "stdout",
     "output_type": "stream",
     "text": [
      "[{'patientId': 'e946f336-02aa-43de-8ac1-0ecd2d0475c7', 'name': 'Jason Serrano', 'age': 52, 'heartRate': 109, 'respiratoryRate': 29, 'oxygenSaturation': 89, 'seizureDetected': False, 'seizureDuration': 0, 'seizureSeverity': 'None', 'emergencyContact': {'name': 'Shirley Graves', 'relationship': 'Guardian', 'phone': '6295751247', 'email': 'thernandez@example.org'}, 'location': {'currentLocation': '9806 Brian Rue\\\\nLake Yvonne, MH 88166', 'hospitalId': 'MSFRGBGB'}, 'createdAt': '2024-08-14T15:36:57', 'eventTimestamp': '2024-08-14T15:36:57', '_index': 'stream_index'}, {'patientId': '94b273c5-f46a-45e6-b920-7706fbfa8eee', 'name': 'Kathy Webster', 'age': 63, 'heartRate': 84, 'respiratoryRate': 13, 'oxygenSaturation': 96, 'seizureDetected': False, 'seizureDuration': 0, 'seizureSeverity': 'None', 'emergencyContact': {'name': 'Stephen Castro', 'relationship': 'Child', 'phone': '842-707-4800x2626', 'email': 'raguirre@example.org'}, 'location': {'currentLocation': '0474 Blankenship Lock\\\\nNorth Stephanie, ND 65883', 'hospitalId': 'KQKLGBVY4N7'}, 'createdAt': '2024-08-14T15:36:59', 'eventTimestamp': '2024-08-14T15:36:59', '_index': 'stream_index'}, {'patientId': 'cb783587-ee05-4186-8c6f-d59bfbd79c8e', 'name': 'Jamie Montgomery', 'age': 31, 'heartRate': 142, 'respiratoryRate': 14, 'oxygenSaturation': 80, 'seizureDetected': True, 'seizureDuration': 106, 'seizureSeverity': 'Moderate', 'emergencyContact': {'name': 'Taylor David', 'relationship': 'Guardian', 'phone': '+1-269-242-3658x398', 'email': 'harriskari@example.net'}, 'location': {'currentLocation': '7517 Reid Landing Suite 048\\\\nLake Mariaberg, AS 89462', 'hospitalId': 'SIOAGB00PO7'}, 'createdAt': '2024-08-14T15:37:00', 'eventTimestamp': '2024-08-14T15:37:00', '_index': 'stream_index'}, {'patientId': 'ec3413bc-292b-4c23-8a7d-c6843fe3acb0', 'name': 'Jordan Castaneda', 'age': 66, 'heartRate': 68, 'respiratoryRate': 14, 'oxygenSaturation': 88, 'seizureDetected': False, 'seizureDuration': 0, 'seizureSeverity': 'None', 'emergencyContact': {'name': 'Samuel Briggs', 'relationship': 'Child', 'phone': '227.989.5806x08589', 'email': 'frank53@example.net'}, 'location': {'currentLocation': '2380 French Neck Suite 068\\\\nWrightchester, PA 73456', 'hospitalId': 'IGRYGBU395X'}, 'createdAt': '2024-08-14T15:37:01', 'eventTimestamp': '2024-08-14T15:37:01', '_index': 'stream_index'}, {'patientId': 'b4f3c08f-c056-4aee-8618-9609c95037cc', 'name': 'John Diaz', 'age': 50, 'heartRate': 63, 'respiratoryRate': 32, 'oxygenSaturation': 91, 'seizureDetected': False, 'seizureDuration': 0, 'seizureSeverity': 'None', 'emergencyContact': {'name': 'Jeffery Poole', 'relationship': 'Spouse', 'phone': '839.716.7664x894', 'email': 'lawrence83@example.net'}, 'location': {'currentLocation': '05033 Rachel Park Suite 676\\\\nHowardbury, PR 91186', 'hospitalId': 'PVARGB81'}, 'createdAt': '2024-08-14T15:37:03', 'eventTimestamp': '2024-08-14T15:37:03', '_index': 'stream_index'}, {'patientId': 'bbcad5d2-1a99-4d90-90c9-98e4a277b3f7', 'name': 'Robin Browning', 'age': 36, 'heartRate': 170, 'respiratoryRate': 33, 'oxygenSaturation': 96, 'seizureDetected': False, 'seizureDuration': 0, 'seizureSeverity': 'None', 'emergencyContact': {'name': 'Erica Arnold', 'relationship': 'Child', 'phone': '3409890934', 'email': 'michellegrimes@example.org'}, 'location': {'currentLocation': '74672 Steele Mountains Suite 913\\\\nMurphyside, AR 17962', 'hospitalId': 'SIVZGB6RQX0'}, 'createdAt': '2024-08-14T15:37:04', 'eventTimestamp': '2024-08-14T15:37:04', '_index': 'stream_index'}, {'patientId': '0df48102-bcdc-43c3-8b85-d74dde19ba0f', 'name': 'Anna Harris', 'age': 50, 'heartRate': 146, 'respiratoryRate': 26, 'oxygenSaturation': 95, 'seizureDetected': False, 'seizureDuration': 0, 'seizureSeverity': 'None', 'emergencyContact': {'name': 'Robin Herman', 'relationship': 'Parent', 'phone': '502.904.8270', 'email': 'mfrazier@example.org'}, 'location': {'currentLocation': '1107 Rosario Ports Apt. 214\\\\nNorth Brian, NH 27414', 'hospitalId': 'PKBCGBMA'}, 'createdAt': '2024-08-14T15:37:05', 'eventTimestamp': '2024-08-14T15:37:05', '_index': 'stream_index'}, {'patientId': '22a7da85-54c0-4ee0-8a30-126d76e66f9f', 'name': 'Bradley Wilson', 'age': 58, 'heartRate': 62, 'respiratoryRate': 28, 'oxygenSaturation': 87, 'seizureDetected': False, 'seizureDuration': 0, 'seizureSeverity': 'None', 'emergencyContact': {'name': 'Christina Pierce', 'relationship': 'Guardian', 'phone': '271.563.7150', 'email': 'adriennepope@example.net'}, 'location': {'currentLocation': '97707 Stevens Common Suite 820\\\\nMartinezville, FL 05248', 'hospitalId': 'BFBRGBEX'}, 'createdAt': '2024-08-14T15:37:07', 'eventTimestamp': '2024-08-14T15:37:07', '_index': 'stream_index'}, {'patientId': '622b3076-8658-4ed8-97a5-d15e27ddaf68', 'name': 'Michael Wood', 'age': 60, 'heartRate': 152, 'respiratoryRate': 35, 'oxygenSaturation': 100, 'seizureDetected': False, 'seizureDuration': 0, 'seizureSeverity': 'None', 'emergencyContact': {'name': 'Laura Sanders', 'relationship': 'Parent', 'phone': '4807928578', 'email': 'michelleellis@example.org'}, 'location': {'currentLocation': '0404 Mary Row\\\\nSouth Rachelview, VT 67769', 'hospitalId': 'YDFMGBCG7RW'}, 'createdAt': '2024-08-14T15:37:08', 'eventTimestamp': '2024-08-14T15:37:08', '_index': 'stream_index'}, {'patientId': '6ed2db66-964d-44d7-ae05-16d37ce2c33b', 'name': 'Katherine Cooper', 'age': 44, 'heartRate': 72, 'respiratoryRate': 26, 'oxygenSaturation': 88, 'seizureDetected': False, 'seizureDuration': 0, 'seizureSeverity': 'None', 'emergencyContact': {'name': 'Christopher Schwartz', 'relationship': 'Guardian', 'phone': '6657596658', 'email': 'oanthony@example.net'}, 'location': {'currentLocation': '237 King Mountain Apt. 567\\\\nNorth Karaview, PW 09387', 'hospitalId': 'VWZGGBQD'}, 'createdAt': '2024-08-14T15:37:09', 'eventTimestamp': '2024-08-14T15:37:09', '_index': 'stream_index'}, {'patientId': '343f73bd-0e9c-47ee-9370-53ff07805fb8', 'name': 'Diamond Hughes', 'age': 22, 'heartRate': 147, 'respiratoryRate': 13, 'oxygenSaturation': 94, 'seizureDetected': False, 'seizureDuration': 0, 'seizureSeverity': 'None', 'emergencyContact': {'name': 'Andrew Allen', 'relationship': 'Guardian', 'phone': '926.741.2529', 'email': 'christine51@example.net'}, 'location': {'currentLocation': '242 Brian Flats\\\\nLindseyside, PW 73904', 'hospitalId': 'JTGMGB0YPWP'}, 'createdAt': '2024-08-14T15:37:11', 'eventTimestamp': '2024-08-14T15:37:11', '_index': 'stream_index'}, {'patientId': 'b3970dec-94d2-4662-ae45-6e734d7d3146', 'name': 'Tara Gillespie', 'age': 28, 'heartRate': 97, 'respiratoryRate': 40, 'oxygenSaturation': 84, 'seizureDetected': False, 'seizureDuration': 0, 'seizureSeverity': 'None', 'emergencyContact': {'name': 'Megan Washington', 'relationship': 'Spouse', 'phone': '963-789-3062x7589', 'email': 'donald13@example.org'}, 'location': {'currentLocation': '0006 Gates Pass\\\\nEast Heather, DE 49558', 'hospitalId': 'VSJXGBFOQIE'}, 'createdAt': '2024-08-14T15:37:12', 'eventTimestamp': '2024-08-14T15:37:12', '_index': 'stream_index'}, {'patientId': 'c4461a34-745e-426e-8567-13873a0a3af8', 'name': 'Diana Jacobs', 'age': 76, 'heartRate': 64, 'respiratoryRate': 17, 'oxygenSaturation': 100, 'seizureDetected': False, 'seizureDuration': 0, 'seizureSeverity': 'None', 'emergencyContact': {'name': 'Judy Baldwin', 'relationship': 'Parent', 'phone': '(971)644-3103x556', 'email': 'samanthawhite@example.net'}, 'location': {'currentLocation': '2359 Diaz Land Apt. 751\\\\nCatherineland, WV 02081', 'hospitalId': 'ZSBGGBGP'}, 'createdAt': '2024-08-14T15:37:13', 'eventTimestamp': '2024-08-14T15:37:13', '_index': 'stream_index'}, {'patientId': '1a866961-a530-436a-ad18-cd40e6704d40', 'name': 'Christine Munoz', 'age': 64, 'heartRate': 168, 'respiratoryRate': 14, 'oxygenSaturation': 97, 'seizureDetected': False, 'seizureDuration': 0, 'seizureSeverity': 'None', 'emergencyContact': {'name': 'Mary Johnson', 'relationship': 'Guardian', 'phone': '001-985-454-5590x683', 'email': 'hpayne@example.net'}, 'location': {'currentLocation': 'PSC 4119, Box 7397\\\\nAPO AE 80825', 'hospitalId': 'XYBDGBQM'}, 'createdAt': '2024-08-14T15:37:15', 'eventTimestamp': '2024-08-14T15:37:15', '_index': 'stream_index'}, {'patientId': '12256348-1ee4-4a36-ac30-555e09bef097', 'name': 'Alexander Preston', 'age': 33, 'heartRate': 83, 'respiratoryRate': 30, 'oxygenSaturation': 83, 'seizureDetected': False, 'seizureDuration': 0, 'seizureSeverity': 'None', 'emergencyContact': {'name': 'Michele Terry', 'relationship': 'Parent', 'phone': '(741)982-0725', 'email': 'brownnicole@example.org'}, 'location': {'currentLocation': '8795 King Row Apt. 865\\\\nBrianfurt, AK 04370', 'hospitalId': 'TNMPGBP1'}, 'createdAt': '2024-08-14T15:37:16', 'eventTimestamp': '2024-08-14T15:37:16', '_index': 'stream_index'}, {'patientId': '1d671034-c369-4790-a8d6-4ae1b077f779', 'name': 'Emily Rivera', 'age': 47, 'heartRate': 94, 'respiratoryRate': 20, 'oxygenSaturation': 89, 'seizureDetected': False, 'seizureDuration': 0, 'seizureSeverity': 'None', 'emergencyContact': {'name': 'Dennis Hansen', 'relationship': 'Guardian', 'phone': '001-840-599-1351', 'email': 'jerry03@example.org'}, 'location': {'currentLocation': 'USS Jackson\\\\nFPO AP 54339', 'hospitalId': 'ENFEGBGA'}, 'createdAt': '2024-08-14T15:37:17', 'eventTimestamp': '2024-08-14T15:37:17', '_index': 'stream_index'}, {'patientId': 'e63627e5-33e4-4983-9ba5-dcabb038c7cd', 'name': 'Clarence Holland', 'age': 62, 'heartRate': 81, 'respiratoryRate': 32, 'oxygenSaturation': 92, 'seizureDetected': False, 'seizureDuration': 0, 'seizureSeverity': 'None', 'emergencyContact': {'name': 'Jorge Elliott', 'relationship': 'Parent', 'phone': '6577142148', 'email': 'arnoldbrandon@example.org'}, 'location': {'currentLocation': '55213 Anderson Camp Apt. 797\\\\nWest Hunter, TN 36994', 'hospitalId': 'HAGDGBPXM2P'}, 'createdAt': '2024-08-14T15:37:18', 'eventTimestamp': '2024-08-14T15:37:18', '_index': 'stream_index'}, {'patientId': '1f38432e-a258-4e8e-809e-ef2de4395e17', 'name': 'Jaime Gregory', 'age': 84, 'heartRate': 104, 'respiratoryRate': 19, 'oxygenSaturation': 97, 'seizureDetected': False, 'seizureDuration': 0, 'seizureSeverity': 'None', 'emergencyContact': {'name': 'Nathan Hart', 'relationship': 'Parent', 'phone': '957.617.8394x77901', 'email': 'huangsteve@example.net'}, 'location': {'currentLocation': '995 Nancy Lodge\\\\nSouth Sandra, IA 20474', 'hospitalId': 'RGBKGB87'}, 'createdAt': '2024-08-14T15:37:20', 'eventTimestamp': '2024-08-14T15:37:20', '_index': 'stream_index'}, {'patientId': '446ac1ae-e351-4341-9b0a-9957877f981f', 'name': 'Laura Newton', 'age': 62, 'heartRate': 138, 'respiratoryRate': 16, 'oxygenSaturation': 91, 'seizureDetected': True, 'seizureDuration': 261, 'seizureSeverity': 'Moderate', 'emergencyContact': {'name': 'Katherine Fitzgerald', 'relationship': 'Guardian', 'phone': '(463)609-2262x74130', 'email': 'smithdawn@example.com'}, 'location': {'currentLocation': '9154 Stephanie Orchard\\\\nSingletonburgh, MP 01926', 'hospitalId': 'VNGRGBSN'}, 'createdAt': '2024-08-14T15:37:21', 'eventTimestamp': '2024-08-14T15:37:21', '_index': 'stream_index'}, {'patientId': '276e2c61-1d00-4235-878e-1f16744a8cd5', 'name': 'Travis Jacobs', 'age': 20, 'heartRate': 180, 'respiratoryRate': 13, 'oxygenSaturation': 92, 'seizureDetected': False, 'seizureDuration': 0, 'seizureSeverity': 'None', 'emergencyContact': {'name': 'Donna Estes', 'relationship': 'Child', 'phone': '(440)677-0281x4553', 'email': 'davidlee@example.org'}, 'location': {'currentLocation': '48420 Mark Corner\\\\nSouth Joelmouth, GU 06936', 'hospitalId': 'BUEFGBSGSR5'}, 'createdAt': '2024-08-14T15:37:22', 'eventTimestamp': '2024-08-14T15:37:22', '_index': 'stream_index'}, {'patientId': 'ca9bb98b-0262-4f95-9225-b1c1aaca7dc9', 'name': 'Brian Rodriguez', 'age': 22, 'heartRate': 131, 'respiratoryRate': 24, 'oxygenSaturation': 84, 'seizureDetected': False, 'seizureDuration': 0, 'seizureSeverity': 'None', 'emergencyContact': {'name': 'Ashley Conley', 'relationship': 'Child', 'phone': '+1-557-297-9387x74921', 'email': 'christopher65@example.com'}, 'location': {'currentLocation': '8582 Martin Land Apt. 944\\\\nPetersonfort, WI 92368', 'hospitalId': 'WEORGB09LGJ'}, 'createdAt': '2024-08-14T15:37:24', 'eventTimestamp': '2024-08-14T15:37:24', '_index': 'stream_index'}, {'patientId': 'a3b0c7dc-04d3-4b22-87b1-be505caa2659', 'name': 'Dr. Justin Garcia', 'age': 53, 'heartRate': 108, 'respiratoryRate': 38, 'oxygenSaturation': 100, 'seizureDetected': False, 'seizureDuration': 0, 'seizureSeverity': 'None', 'emergencyContact': {'name': 'Savannah Walker', 'relationship': 'Spouse', 'phone': '(814)538-4416x75338', 'email': 'ambermoore@example.org'}, 'location': {'currentLocation': '0701 Smith Ramp Suite 760\\\\nPort Tiffany, TX 51454', 'hospitalId': 'BDLOGBFMO70'}, 'createdAt': '2024-08-14T15:37:25', 'eventTimestamp': '2024-08-14T15:37:25', '_index': 'stream_index'}, {'patientId': '34324ee0-3253-4c72-adad-1d551f9cdeb0', 'name': 'Maria Martinez', 'age': 27, 'heartRate': 165, 'respiratoryRate': 12, 'oxygenSaturation': 96, 'seizureDetected': False, 'seizureDuration': 0, 'seizureSeverity': 'None', 'emergencyContact': {'name': 'Cindy Flores', 'relationship': 'Parent', 'phone': '(647)796-0891x476', 'email': 'johnroberson@example.org'}, 'location': {'currentLocation': '784 Christina Keys Suite 383\\\\nSouth Wendy, OH 45855', 'hospitalId': 'LEUTGBDR7D5'}, 'createdAt': '2024-08-14T15:37:26', 'eventTimestamp': '2024-08-14T15:37:26', '_index': 'stream_index'}, {'patientId': '4f86afc3-1f4f-456b-ac3b-640ff9025c4d', 'name': 'Danielle Garrison', 'age': 76, 'heartRate': 163, 'respiratoryRate': 13, 'oxygenSaturation': 82, 'seizureDetected': True, 'seizureDuration': 236, 'seizureSeverity': 'Mild', 'emergencyContact': {'name': 'Raymond Armstrong', 'relationship': 'Guardian', 'phone': '(465)977-0839x42467', 'email': 'garciaamber@example.net'}, 'location': {'currentLocation': '405 Thompson Forest Apt. 541\\\\nDavidbury, VT 36719', 'hospitalId': 'HGNQGB3E'}, 'createdAt': '2024-08-14T15:37:28', 'eventTimestamp': '2024-08-14T15:37:28', '_index': 'stream_index'}, {'patientId': 'd7c5679e-9e4f-450e-8f27-4282b4383c67', 'name': 'Tony Walker', 'age': 66, 'heartRate': 141, 'respiratoryRate': 26, 'oxygenSaturation': 86, 'seizureDetected': False, 'seizureDuration': 0, 'seizureSeverity': 'None', 'emergencyContact': {'name': 'Denise Rivers', 'relationship': 'Guardian', 'phone': '001-242-583-8460x53152', 'email': 'gonzalezkaren@example.org'}, 'location': {'currentLocation': '758 Graham Unions\\\\nGardnerville, KS 14446', 'hospitalId': 'XVRZGBHW'}, 'createdAt': '2024-08-14T15:37:29', 'eventTimestamp': '2024-08-14T15:37:29', '_index': 'stream_index'}]\n"
     ]
    }
   ],
   "source": [
    "post_processed_jsons = prepare_data_for_indexing(processed_jsons, index_name)\n",
    "print(post_processed_jsons)\n"
   ]
  },
  {
   "cell_type": "code",
   "execution_count": 38,
   "id": "d95e0acb",
   "metadata": {},
   "outputs": [
    {
     "name": "stdout",
     "output_type": "stream",
     "text": [
      "(25, [])\n"
     ]
    }
   ],
   "source": [
    "response = helpers.bulk(client, processed_jsons, max_retries=3)\n",
    "print(response)"
   ]
  },
  {
   "cell_type": "code",
   "execution_count": null,
   "id": "91f019c3",
   "metadata": {},
   "outputs": [],
   "source": []
  },
  {
   "cell_type": "code",
   "execution_count": 39,
   "id": "c7322605",
   "metadata": {},
   "outputs": [
    {
     "name": "stdout",
     "output_type": "stream",
     "text": [
      "Total Hits:  25\n"
     ]
    }
   ],
   "source": [
    "# search for all documents in the 'amit-pdf-index' index\n",
    "response = client.search(index=index_name)\n",
    "\n",
    "# extract the count of hits from the response\n",
    "hits_count = response['hits']['total']['value']\n",
    "\n",
    "\n",
    "# print the count of hits\n",
    "print(\"Total Hits: \", hits_count)"
   ]
  },
  {
   "cell_type": "code",
   "execution_count": 30,
   "id": "da2981cd",
   "metadata": {},
   "outputs": [
    {
     "name": "stdout",
     "output_type": "stream",
     "text": [
      "{'acknowledged': True}\n"
     ]
    }
   ],
   "source": [
    "response = client.indices.delete(\n",
    "    index = index_name\n",
    ")\n",
    "\n",
    "print(response)"
   ]
  },
  {
   "cell_type": "code",
   "execution_count": null,
   "id": "1eeddb20",
   "metadata": {},
   "outputs": [],
   "source": []
  },
  {
   "cell_type": "code",
   "execution_count": null,
   "id": "062e2faa",
   "metadata": {},
   "outputs": [],
   "source": []
  }
 ],
 "metadata": {
  "kernelspec": {
   "display_name": "conda_python3",
   "language": "python",
   "name": "conda_python3"
  },
  "language_info": {
   "codemirror_mode": {
    "name": "ipython",
    "version": 3
   },
   "file_extension": ".py",
   "mimetype": "text/x-python",
   "name": "python",
   "nbconvert_exporter": "python",
   "pygments_lexer": "ipython3",
   "version": "3.10.14"
  }
 },
 "nbformat": 4,
 "nbformat_minor": 5
}
